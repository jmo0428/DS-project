{
 "cells": [
  {
   "cell_type": "markdown",
   "metadata": {},
   "source": [
    "## I. *Introduction*\n",
    "\n",
    "The COVID-19 outbreak has affected and continues to affect populations all across the world. Lives have been lost, families are suffering, and the world is drastically changing. Not only are we facing a health crisis, but we are also in the midst of a human, economic, and social crisis. The context of this work focuses on the economic aspect, specifically the current job market. Many of those already in the workforce have lost their jobs, and a handful of students have had their internships/full-time offers rescinded. As a result, my work aggregates together multiple data sources of various companies' characteristics to look for insights. I am primarily focused on discovering whether there are specific or common characteristics of companies that those in their job search should be aware of. Through my analysis, the main findings that I discovered give more insight into the location and type of job function companies are actively hiring for, as well as internship availability for those still seeking summer opportunities. These findings are meant to spread awareness of the current job market in efforts of assisting those in their job search during COVID-19.\n",
    "\n"
   ]
  },
  {
   "cell_type": "markdown",
   "metadata": {},
   "source": [
    "## II. *Data description*\n",
    "\n",
    "### Dataset\n",
    "   - Link: https://github.com/jmo0428/Hiring-Insights/blob/master/final_dataset.csv"
   ]
  },
  {
   "cell_type": "markdown",
   "metadata": {},
   "source": [
    "### Motivation\n",
    "\n",
    "- ***Why was this dataset created***?\n",
    "\n",
    "The motivation behind creating this dataset is to look more deeply into a subset of companies that are still currently hiring during this unusual time as a result of COVID-19. Specifically, I would like to see if there are any insights or relationships that could be made with regards to the characteristics of companies actively hiring. In other words, is there something specific that those in their job search currently should be looking for, or on the other hand should stay away from?\n",
    "\n",
    "- ***Who funded the creation of the dataset?***\n",
    "\n",
    "The funding of this dataset is attributed to three different sources that I used to aggregate into one dataset. These three sources include:\n",
    "\n",
    "1. Blind, an anonymous community application for the workplace, whose mission is to break down professional barriers and hierarchy. The dataset I downloaded from Blind aims to support those seeking new opportunities due to COVID-19. The link to their dataset can be found here: https://www.teamblind.com/whoshiring\n",
    "\n",
    "2. A github repository, \"hiring2020\" made by the user \"gcreddy42\", which lists the status of companies' internships. Similar to Blind, recruiters and company representatives are encouraged to pass on information regarding roles in their companies to the owner of this repository, which can be found here: https://github.com/gcreddy42/hiring2020\n",
    "    \n",
    "3. A kaggle dataset containing information about 7+ million companies, which is owned and maintained by \"People Data Labs\", which can be found here: https://www.kaggle.com/peopledatalabssf/free-7-million-company-dataset\n",
    "    \n",
    "To summarize, the creation of my dataset comes from aggregating these three sources together. I would also like to acknowledge those that have taken the effort to add their valuable insights and information regarding hiring activity within their companies."
   ]
  },
  {
   "cell_type": "markdown",
   "metadata": {},
   "source": [
    "### Composition\n",
    "\n",
    "- ***What are the observations (rows) and the attributes (columns)?***\n",
    "\n",
    "The **observations (rows)** represent different companies. The **attributes (columns)** describe aspects of the company, such as, location, job functions they're hiring for, date of the job submission, whether they're hiring interns, founding date (year), company size range, and current employee estimate within the company.\n",
    "\n",
    "- ***What processes might have influenced what data was observed and recorded and what was not?***\n",
    "\n",
    "Because a fair amount of the data collected was taken from anonymous open communities, there is a possibility that the data is not entirely accurate. Looking at Blind specifically, the submissions of company opportunities are not actually verified for accuracy, instead, only inappropriate content is moderated. As a result, this process may lead to inaccurate information being spread, but at the same time hopefully minimize harmful content."
   ]
  },
  {
   "cell_type": "markdown",
   "metadata": {},
   "source": [
    "### Preprocessing/Cleaning/Labeling\n",
    "\n",
    "- ***What preprocessing was done, and how did the data come to be in the form that you are using?*** \n",
    "\n",
    "To preprocess my data, I separated it into five different steps:\n",
    "\n",
    "1. **First Step:** First, I began with the TeamBlind dataset (loaded in as csv file) and took out columns that I did not plan to use, i.e. \"Where to Apply\", \"Find on Blind\", \"Notes\". Next, I sorted the DataFrame alphabetically using \"Company Name\", and then removed rows that contained duplicates of company names. \n",
    "\n",
    "2. **Second Step:** Next, I navigated to the URL: https://github.com/gcreddy42/hiring2020, copied the data under the two tables \"Actively Hiring List\" & \"COVID-19 Summer 2020 Internship Status List\", and pasted that data into a csv file. For the table under \"Actively Hiring List\", I removed the columns *Country* and *Position*, removed all rows without the Job Type of \"Internship\" (solely focused on looking at available internship opportunities), and removed all rows with duplicate company names. I then proceeded to create a new column Internships in the newly created csv file and populated the column with respect to availability, i.e. if the company is still hiring interns (has a checkmark in the row), then set the cell to True, otherwise False (has an \"X\" in the row. Using this csv file, I aggregated it with the TeamBlind dataset to create a new column \"Hiring Interns\". If a company was found in both csv files, and if the company is still hiring interns, i.e. if True then fill in \"Yes\" for that company. If a company is in both csv files, but is not hiring interns anymore, i.e. if False, or if a company isn't found in both datasets, then fill in \"No\" for that company.\n",
    "\n",
    "3. **Third Step:** For the third step, I looked at another dataset, which was a downloaded csv file from Kaggle that contains data about more than 7 million different companies. Through matching companies found in both the downloaded kaggle csv file and the TeamBlind dataset, I added the new columns: \"Year founded\", \"Size range\", and \"Current Employee Estimate\" to the TeamBlind dataset. Similar to the \"Hiring Interns\" column, if a company is in both csv files, then fill in the respective value for that company. If there is no match, then set the value to \"Unknown\" as information for that company under the column is unavailable. As a result, because there were many \"Unknown\" values in the dataset, I decided to remove all rows that contained \"Unknown\" to help make the data look cleaner.\n",
    "\n",
    "4. **Step Four:** Export the TeamBlind DataFrame to a csv file named \"final_dataset.csv\". Set the index equal to False so it is exported without the index.\n",
    "\n",
    "5. **Step Five:** Because there were several founding dates missing for some companies, i.e. \"Unknown\", I decided to manually input the founding year for those companies through looking up each one. I manipulated this data directly in the csv file. Moreover, the format of values in the \"Location\" column seemed to differ a lot, so I wanted to make them all follow the same format. Specifically, only include the state name in which the company is located. For companies that have multiple locations, include all states, and for companies that are remote just denote the value as \"Remote\". This data was also manipulated directly in the csv file. Furthermore, if a company had multiple locations and some were out of state, I filtered them out."
   ]
  },
  {
   "cell_type": "markdown",
   "metadata": {},
   "source": [
    "### Collection Process\n",
    "\n",
    "- **If people are involved, were they aware of the data collection and if so, what purpose did they expect the data to be used for?**\n",
    "\n",
    "N/A, other people were not aware of the data collection."
   ]
  },
  {
   "cell_type": "markdown",
   "metadata": {},
   "source": [
    "### Origin of raw data sources\n",
    "\n",
    "- **Where can your raw source data be found, if application? Provide a link to the raw data (hosted in a Cornell Google Drive or Cornell Box)**\n",
    "\n",
    "    - TeamBlind data: https://cornell.box.com/s/a9liknlnbbf0ai2xwwl2kkb6komyc2ke\n",
    "    - github data: https://cornell.box.com/s/24992hou4fhij4wtpsqlztxzl86jo082\n",
    "    - kaggle data: https://cornell.box.com/s/zbz4ofewxo296yxgoj4cy4s4emmfzyko"
   ]
  },
  {
   "cell_type": "markdown",
   "metadata": {},
   "source": [
    "## III. *Data analysis*"
   ]
  },
  {
   "cell_type": "code",
   "execution_count": 796,
   "metadata": {},
   "outputs": [],
   "source": [
    "# import necessary libraries\n",
    "import pandas as pd\n",
    "import numpy as np\n",
    "from matplotlib import pyplot as plt\n",
    "from sklearn.linear_model import LinearRegression"
   ]
  },
  {
   "cell_type": "markdown",
   "metadata": {},
   "source": [
    "**a) Load in the dataset \"final_dataset.csv\" and print the first five columns to see if it successfully loaded**"
   ]
  },
  {
   "cell_type": "code",
   "execution_count": 797,
   "metadata": {},
   "outputs": [
    {
     "data": {
      "text/html": [
       "<div>\n",
       "<style scoped>\n",
       "    .dataframe tbody tr th:only-of-type {\n",
       "        vertical-align: middle;\n",
       "    }\n",
       "\n",
       "    .dataframe tbody tr th {\n",
       "        vertical-align: top;\n",
       "    }\n",
       "\n",
       "    .dataframe thead th {\n",
       "        text-align: right;\n",
       "    }\n",
       "</style>\n",
       "<table border=\"1\" class=\"dataframe\">\n",
       "  <thead>\n",
       "    <tr style=\"text-align: right;\">\n",
       "      <th></th>\n",
       "      <th>Company</th>\n",
       "      <th>Location</th>\n",
       "      <th>Job Function</th>\n",
       "      <th>Date of Submission</th>\n",
       "      <th>Hiring Interns</th>\n",
       "      <th>Year Founded</th>\n",
       "      <th>Size Range</th>\n",
       "      <th>Current Employee Estimate</th>\n",
       "    </tr>\n",
       "  </thead>\n",
       "  <tbody>\n",
       "    <tr>\n",
       "      <th>0</th>\n",
       "      <td>1010Data</td>\n",
       "      <td>New York, Virginia, Tennessee, Georgia, Califo...</td>\n",
       "      <td>Business/Strategy,Software Engineer,Sales,Cust...</td>\n",
       "      <td>4/10/20 0:27</td>\n",
       "      <td>No</td>\n",
       "      <td>2000</td>\n",
       "      <td>201 - 500</td>\n",
       "      <td>171</td>\n",
       "    </tr>\n",
       "    <tr>\n",
       "      <th>1</th>\n",
       "      <td>1Password</td>\n",
       "      <td>US</td>\n",
       "      <td>Software Engineer</td>\n",
       "      <td>4/10/20 0:25</td>\n",
       "      <td>Yes</td>\n",
       "      <td>2005</td>\n",
       "      <td>11 - 50</td>\n",
       "      <td>23</td>\n",
       "    </tr>\n",
       "    <tr>\n",
       "      <th>2</th>\n",
       "      <td>3Degrees</td>\n",
       "      <td>California</td>\n",
       "      <td>Legal</td>\n",
       "      <td>4/8/20 3:32</td>\n",
       "      <td>No</td>\n",
       "      <td>2007</td>\n",
       "      <td>1 - 10</td>\n",
       "      <td>1</td>\n",
       "    </tr>\n",
       "    <tr>\n",
       "      <th>3</th>\n",
       "      <td>Accenture</td>\n",
       "      <td>California</td>\n",
       "      <td>Consulting</td>\n",
       "      <td>4/8/20 0:57</td>\n",
       "      <td>Yes</td>\n",
       "      <td>1989</td>\n",
       "      <td>10001+</td>\n",
       "      <td>190689</td>\n",
       "    </tr>\n",
       "    <tr>\n",
       "      <th>4</th>\n",
       "      <td>Accuro Group</td>\n",
       "      <td>California</td>\n",
       "      <td>Operation</td>\n",
       "      <td>4/17/20 18:51</td>\n",
       "      <td>No</td>\n",
       "      <td>2003</td>\n",
       "      <td>11 - 50</td>\n",
       "      <td>20</td>\n",
       "    </tr>\n",
       "  </tbody>\n",
       "</table>\n",
       "</div>"
      ],
      "text/plain": [
       "        Company                                           Location  \\\n",
       "0      1010Data  New York, Virginia, Tennessee, Georgia, Califo...   \n",
       "1     1Password                                                 US   \n",
       "2      3Degrees                                         California   \n",
       "3     Accenture                                         California   \n",
       "4  Accuro Group                                         California   \n",
       "\n",
       "                                        Job Function Date of Submission  \\\n",
       "0  Business/Strategy,Software Engineer,Sales,Cust...       4/10/20 0:27   \n",
       "1                                  Software Engineer       4/10/20 0:25   \n",
       "2                                              Legal        4/8/20 3:32   \n",
       "3                                         Consulting        4/8/20 0:57   \n",
       "4                                          Operation      4/17/20 18:51   \n",
       "\n",
       "  Hiring Interns  Year Founded Size Range  Current Employee Estimate  \n",
       "0             No          2000  201 - 500                        171  \n",
       "1            Yes          2005    11 - 50                         23  \n",
       "2             No          2007     1 - 10                          1  \n",
       "3            Yes          1989     10001+                     190689  \n",
       "4             No          2003    11 - 50                         20  "
      ]
     },
     "execution_count": 797,
     "metadata": {},
     "output_type": "execute_result"
    }
   ],
   "source": [
    "hiring_dataset = pd.read_csv(\"final_dataset.csv\")\n",
    "hiring_dataset.head()"
   ]
  },
  {
   "cell_type": "markdown",
   "metadata": {},
   "source": [
    "**b) Since I don't know much about my dataset yet, I will use summary functions along with visual displays to describe different parts of my data. This will hopefully give me a better sense of what further insights I would like to dive deeper into later on. I will also include a brief analysis of each part of the dataset I observe to sum up my findings and stay organized. After describing different parts of my data, I will summarize my findings and then attempt to show patterns or relationships between variables.**"
   ]
  },
  {
   "cell_type": "markdown",
   "metadata": {},
   "source": [
    "##### 1. Location column\n",
    "The code below extracts all the data from the *Location* column to look for insights. Specifically, I'll be looking into the top locations that are still hiring, and analyzing them through various calculations and plots."
   ]
  },
  {
   "cell_type": "code",
   "execution_count": 801,
   "metadata": {
    "scrolled": false
   },
   "outputs": [
    {
     "data": {
      "image/png": "[encoded data removed]",
      "text/plain": [
       "<Figure size 432x288 with 1 Axes>"
      ]
     },
     "metadata": {
      "needs_background": "light"
     },
     "output_type": "display_data"
    },
    {
     "name": "stdout",
     "output_type": "stream",
     "text": [
      "49% of companies are hiring from California in my dataset\n",
      "20% of companies are hiring from New York in my dataset\n",
      "4% of companies are hiring from Washington in my dataset\n",
      "3% of companies are hiring from Remote in my dataset\n",
      "3% of companies are hiring from Texas in my dataset\n",
      "2% of companies are hiring from Massachusetts in my dataset\n",
      "2% of companies are hiring from Illinois in my dataset\n",
      "2% of companies are hiring from US in my dataset\n",
      "1% of companies are hiring from Georgia in my dataset\n",
      "1% of companies are hiring from North Carolina in my dataset\n"
     ]
    }
   ],
   "source": [
    "# Location column\n",
    "location = hiring_dataset[\"Location\"]\n",
    "\n",
    "# Returns a dictionary of all unique locations mapped to the total number \n",
    "# of times it is seen in the dataset\n",
    "def state_to_count(loc):\n",
    "    state_dict = {}\n",
    "    for row in loc:\n",
    "        state_arr = row.split(',')\n",
    "        if len(state_arr) == 1:\n",
    "            curr_state = state_arr[0].strip()\n",
    "            if curr_state not in state_dict:\n",
    "                state_dict[curr_state] = 1\n",
    "            else:\n",
    "                state_dict[curr_state] += 1\n",
    "        else:\n",
    "            for state in state_arr:\n",
    "                curr_state = state.strip()\n",
    "                if curr_state not in state_dict:\n",
    "                    state_dict[curr_state] = 1\n",
    "                else:\n",
    "                    state_dict[curr_state] += 1\n",
    "    return state_dict\n",
    "\n",
    "# Stores the dictionary returned from state_to_count() in \"location_dict\"\n",
    "location_dict = state_to_count(location)\n",
    "# Sorts location_dict in descending order based off the values\n",
    "location_dict = sorted(location_dict.items(), \n",
    "                            key = lambda x : x[1], reverse=True)\n",
    "\n",
    "# Retrieves the top 10 locations for hiring\n",
    "top_ten_locations = np.array(location_dict[:10])\n",
    "ten_locations = top_ten_locations[:, 0]\n",
    "location_values = top_ten_locations[:, 1].astype(int)\n",
    "\n",
    "# Stores each occurence of a location inside \"locations\". \n",
    "# This array will later help us plot a histogram displaying the top locations\n",
    "locations = []\n",
    "for row in location:\n",
    "    curr_row = row.split(',')\n",
    "    for l in curr_row:\n",
    "        if l in ten_locations:\n",
    "            locations.append(l)\n",
    "\n",
    "# Plots a histogram displaying the top 10 seen locations in our dataset\n",
    "# This is equivalent to saying that these locations also have the greatest amount of job opportunities\n",
    "bins = np.linspace(0, 10, num=11)\n",
    "plt.hist(locations, bins=bins, align=\"left\", rwidth=0.8)\n",
    "plt.title(\"Top 10 states hiring for positions (Remote & US included)\")\n",
    "plt.xlabel(\"States\")\n",
    "plt.ylabel(\"Count\")\n",
    "plt.xticks(rotation=\"vertical\")\n",
    "plt.show()\n",
    "\n",
    "# Loops through a dictionary that maps the top 10 locations to their respective count\n",
    "# Calculates and prints the percentage of companies hiring from that specific area\n",
    "for key, value in top_ten_locations:\n",
    "    percentage = int(int(value) / len(hiring_dataset) * 100)\n",
    "    print(\"{}% of companies are hiring from {} in my dataset\"\n",
    "         .format(percentage, key))"
   ]
  },
  {
   "cell_type": "markdown",
   "metadata": {},
   "source": [
    "**Analysis:** Based off our analysis of data from the *Location* column, we are able to visualize and calculate which states have more job opportunities from our dataset. We see that California and New York are the most popular locations for hiring, with about 49% and 20% of companies hiring from California and New York respectively. Although not a state, \"Remote\" opportunities are also available, which makes sense during this unusual time. It's also important to note that the value of \"US\" was commonly seen in the dataset, which is kind of a gray area as those companies didn't specify which state in the US they're hiring for."
   ]
  },
  {
   "cell_type": "markdown",
   "metadata": {},
   "source": [
    "##### 2. Job Function\n",
    "\n",
    "The code below extracts all the data from the *Job Function* column to look for insights. I'll be looking into the different types of job functions available for hire and determining whether a specific role is more desired during this time. Similar to the extraction of data from the *Location* column, I plan to map specific job functions to the total number of times it is seen in the dataset."
   ]
  },
  {
   "cell_type": "code",
   "execution_count": 803,
   "metadata": {
    "scrolled": false
   },
   "outputs": [
    {
     "data": {
      "image/png": "[encoded data removed]",
      "text/plain": [
       "<Figure size 432x288 with 1 Axes>"
      ]
     },
     "metadata": {
      "needs_background": "light"
     },
     "output_type": "display_data"
    },
    {
     "name": "stdout",
     "output_type": "stream",
     "text": [
      "44% of companies are hiring from Software Engineer in my dataset\n",
      "28% of companies are hiring from Marketing in my dataset\n",
      "22% of companies are hiring from Product Manager in my dataset\n",
      "15% of companies are hiring from Sales in my dataset\n",
      "14% of companies are hiring from HR in my dataset\n",
      "14% of companies are hiring from Operations in my dataset\n",
      "13% of companies are hiring from Designer in my dataset\n",
      "13% of companies are hiring from Finance/Accounting in my dataset\n",
      "13% of companies are hiring from Data Science in my dataset\n",
      "12% of companies are hiring from Customer Service in my dataset\n",
      "10% of companies are hiring from Operation in my dataset\n",
      "6% of companies are hiring from Product Designer in my dataset\n",
      "5% of companies are hiring from Legal in my dataset\n",
      "5% of companies are hiring from Business/Strategy in my dataset\n",
      "3% of companies are hiring from IT in my dataset\n",
      "3% of companies are hiring from Other in my dataset\n",
      "2% of companies are hiring from Hardware Engineer in my dataset\n",
      "1% of companies are hiring from Consulting in my dataset\n",
      "0% of companies are hiring from Finance/Accounting/Accounting in my dataset\n"
     ]
    }
   ],
   "source": [
    "# Job Function column\n",
    "job_functions = hiring_dataset[\"Job Function\"]\n",
    "\n",
    "# Returns a dictionary of all unique job functions mapped to the total number of times it is seen in the dataset\n",
    "def job_to_count(jobs):\n",
    "    job_func_dict = {}\n",
    "    for row in jobs:\n",
    "        job_arr = row.split(',')\n",
    "        if len(job_arr) == 1:\n",
    "            curr_job = job_arr[0]\n",
    "            if curr_job not in job_func_dict:\n",
    "                job_func_dict[curr_job] = 1\n",
    "            else:\n",
    "                job_func_dict[curr_job] += 1\n",
    "        else:\n",
    "            for job in job_arr:\n",
    "                if job not in job_func_dict:\n",
    "                    job_func_dict[job] = 1\n",
    "                else:\n",
    "                    job_func_dict[job] += 1\n",
    "    \n",
    "    return job_func_dict\n",
    "\n",
    "# Stores the dictionary returned from job_to_count() in \"job_dict\"\n",
    "job_dict = job_to_count(job_functions)\n",
    "\n",
    "# Stores each occurence of a job function inside \"jobs\"\n",
    "# This array will later help us plot a histogram displaying the count of each job function \n",
    "jobs = []\n",
    "for row in job_functions:\n",
    "    curr_row = row.split(',')\n",
    "    jobs.extend(curr_row)\n",
    "\n",
    "# Plots a histogram displaying the count of each job function\n",
    "bins = np.linspace(0, 19, 20)\n",
    "plt.hist(total_jobs, bins=bins, align=\"left\", rwidth=0.8)\n",
    "plt.title(\"Total count of each unique job function\")\n",
    "plt.xlabel(\"Job Function\")\n",
    "plt.ylabel(\"Count\")\n",
    "plt.xticks(rotation=\"vertical\")\n",
    "plt.show()\n",
    "\n",
    "# Sorts job_dict in descending order based off the values\n",
    "sorted_job_list = sorted(job_dict.items(), \n",
    "                  key = lambda x : x[1], reverse = True)\n",
    "\n",
    "# Loops through a dictionary that maps a job function to its respective count\n",
    "# Calculates and prints the percentage of companies hiring for that specific position\n",
    "for job in sorted_job_list:\n",
    "    job_ratio = int(int(job[1]) / len(hiring_dataset) * 100)\n",
    "    print(\"{}% of companies are hiring from {} in my dataset\"\n",
    "         .format(job_ratio, job[0]))"
   ]
  },
  {
   "cell_type": "markdown",
   "metadata": {},
   "source": [
    "**Analysis:** Based off our analysis of data from the *Job Function* column, we are able to visualize and calculate which positions are in higher demand as well as which are not. From our calculations, we see that the roles for Software Engineers, Marketing, and Product Managers are in high demand, while roles for Finance, Accounting, and Consulting are not too high in demand. It's important to note that companies are also hiring for multiple positions, which explains why the sum of percentages is greater than 100. We can think of each percentage as independent from one another."
   ]
  },
  {
   "cell_type": "markdown",
   "metadata": {},
   "source": [
    "##### 3. Date of Submission\n",
    "\n",
    "I am choosing not to look for insights into this column because the date of submission for the companies in my dataset only go up to *April 23* the latest. In other words, my dataset does not dynamically update with the most recent companies hiring. Hence, I do not think it's worth it to currently analyze this piece of data."
   ]
  },
  {
   "cell_type": "markdown",
   "metadata": {},
   "source": [
    "##### 4. Hiring Interns \n",
    "\n",
    "The code below extracts all the data from the *Hiring Interns* column to look for insights. I'll be calculating the proportion of companies that are actively hiring interns to gauge the amount of opportunities for internships during COVID-19. It's important to note that this is only a subset of companies, and that the result is not indicative of all internship opportunities."
   ]
  },
  {
   "cell_type": "code",
   "execution_count": 805,
   "metadata": {},
   "outputs": [
    {
     "data": {
      "image/png": "[encoded data removed]",
      "text/plain": [
       "<Figure size 432x288 with 1 Axes>"
      ]
     },
     "metadata": {
      "needs_background": "light"
     },
     "output_type": "display_data"
    },
    {
     "name": "stdout",
     "output_type": "stream",
     "text": [
      "Only 75 out of 642 companies are actively hiring for interns\n"
     ]
    }
   ],
   "source": [
    "# Hirng Interns column\n",
    "hiring_interns = hiring_dataset[\"Hiring Interns\"]\n",
    "\n",
    "# Calculates the number of companies that are and aren't actively hiring for interns\n",
    "yes_hiring = hiring_interns[ hiring_interns == \"Yes\" ]\n",
    "no_hiring = hiring_interns[ hiring_interns == \"No\" ]\n",
    "\n",
    "# Plots a histogram displaying the total number of companies that are and aren't actively hiring for interns\n",
    "bins = np.linspace(0, 2, num=3)\n",
    "plt.hist(hiring_interns, bins=bins, align=\"left\", rwidth=0.8)\n",
    "plt.title(\"Number of companies actively hiring for Internships\")\n",
    "plt.xlabel(\"Hiring\")\n",
    "plt.ylabel(\"Count\")\n",
    "plt.show()\n",
    "\n",
    "# Prints the numerical value of companies with internship opportunities\n",
    "print(\"Only {} out of {} companies are actively hiring for interns\"\n",
    "      .format(len(yes_hiring), len(hiring_interns)))"
   ]
  },
  {
   "cell_type": "markdown",
   "metadata": {},
   "source": [
    "**Analysis:** Based off the histogram and calculation printed, it seems that most companies in my dataset are not actively hiring for interns. Only a little over 10% (75/642) of companies still have available internship opportunities."
   ]
  },
  {
   "cell_type": "markdown",
   "metadata": {},
   "source": [
    "##### 5. Year Founded\n",
    "\n",
    "The code below extracts all the data from the *Year Founded* column to look for insights. I'll be plotting and counting the range of years found in my dataset to see if there is any relationship to be made. In other words, is there a specific year or range of years that may indicate whether a company is more likely to be hiring during this time?"
   ]
  },
  {
   "cell_type": "code",
   "execution_count": 806,
   "metadata": {},
   "outputs": [
    {
     "data": {
      "image/png": "[encoded data removed]",
      "text/plain": [
       "<Figure size 432x288 with 1 Axes>"
      ]
     },
     "metadata": {
      "needs_background": "light"
     },
     "output_type": "display_data"
    },
    {
     "data": {
      "image/png": "[encoded data removed]",
      "text/plain": [
       "<Figure size 432x288 with 1 Axes>"
      ]
     },
     "metadata": {
      "needs_background": "light"
     },
     "output_type": "display_data"
    },
    {
     "name": "stdout",
     "output_type": "stream",
     "text": [
      "The mean founding year of all companies is: 1997\n",
      "\n",
      "\n",
      "The standard deviation of year founded is: 31.2\n",
      "\n",
      "\n",
      "The median founding year of all companies is: 2008\n",
      "\n",
      "\n",
      "The number of companies founded between 1825 and 1850 is: 3\n",
      "The number of companies founded between 1850 and 1875 is: 12\n",
      "The number of companies founded between 1875 and 1900 is: 3\n",
      "The number of companies founded between 1900 and 1925 is: 15\n",
      "The number of companies founded between 1925 and 1950 is: 13\n",
      "The number of companies founded between 1950 and 1975 is: 25\n",
      "The number of companies founded between 1975 and 2000 is: 118\n",
      "The number of companies founded between 2000 and 2025 is: 453\n"
     ]
    }
   ],
   "source": [
    "# Year Founded column\n",
    "year_founded = hiring_dataset[\"Year Founded\"]\n",
    "\n",
    "# x represents each company as a number instead of its respective name\n",
    "x = range(0, len(year_founded))\n",
    "# Scatter plot displaying the founding year of each company\n",
    "plt.scatter(x, year_founded)\n",
    "plt.title(\"Founding dates of companies\")\n",
    "plt.xlabel(\"Companies (Represented as integers)\")\n",
    "plt.ylabel(\"Year\")\n",
    "plt.show()\n",
    "\n",
    "# Plots a histogram displaying the founding year of each company\n",
    "plt.hist(year_founded)\n",
    "plt.title(\"Founding dates of companies\")\n",
    "plt.xlabel(\"Year\")\n",
    "plt.ylabel(\"Count\")\n",
    "plt.show()\n",
    "\n",
    "# Finds and prints mean founding year of all companies\n",
    "founding_mean = int(year_founded.mean())\n",
    "print(\"The mean founding year of all companies is: {}\"\n",
    "     .format(founding_mean))\n",
    "print(\"\\n\")\n",
    "# Finds and prints the standard deviation of founding years of all companies\n",
    "founding_std = round(year_founded.std(), 2)\n",
    "print(\"The standard deviation of year founded is: {}\"\n",
    "     .format(founding_std))\n",
    "print(\"\\n\")\n",
    "# Finds and prints the median founding year of all companies\n",
    "founding_median = int(year_founded.median())\n",
    "print(\"The median founding year of all companies is: {}\"\n",
    "     .format(founding_median))\n",
    "print(\"\\n\")\n",
    "\n",
    "# Finds the number of companies founded in each range (25 year ranges)\n",
    "min_year = year_founded.min()\n",
    "max_year = year_founded.max()\n",
    "year_ranges = [1825, 1850, 1875, 1900, 1925, 1950, 1975, 2000, 2025]\n",
    "total = 0\n",
    "for ind in range(1, len(year_ranges)):\n",
    "    num_companies = len(year_founded[ (year_founded >= year_ranges[ind-1] ) & \n",
    "                                  (year_founded < year_ranges[ind])])\n",
    "    print(\"The number of companies founded between {} and {} is: {}\"\n",
    "         .format(year_ranges[ind-1], year_ranges[ind], num_companies))"
   ]
  },
  {
   "cell_type": "markdown",
   "metadata": {},
   "source": [
    "**Analysis:** Based off the above scatter plot and histogram, it seems that the majority of companies hiring during this time are relatively newer companies, i.e. they were recently established. When calculating the mean founding year of all companies, we see that the number deviates a bit from the more common founding years. This is attributed to the companies that were founded in the 1800s as well as early-mid 1900s, which explains why the mean founding year is pulled down. Furthermore, a standard deviation of approximately 31 indicates that there is a fair amount of variability within this column of data. In short, the standard deviation we calculated is high, which means that the data is more spread out. To obtain a more accurate interpretation of the data, I resorted to calculating the median, which normalizes the data in that the more extreme data points do not have as much power to influence. Lastly, we see the number of companies founded in different year ranges (25 years apart). These calculations show that the majority of companies founded were somewhere between 2000 and 2025, which again, are relatively recent founding dates."
   ]
  },
  {
   "cell_type": "markdown",
   "metadata": {},
   "source": [
    "##### 6. Size Range\n",
    "\n",
    "The code below extracts all the data from the *Size Range* column to look for insights. I'll be plotting and counting the different size ranges found in my dataset to see if there are any relationships to be made. In other words, is there a specific size range of a company that may indicate whether a company is more likely to be hiring during this time?"
   ]
  },
  {
   "cell_type": "code",
   "execution_count": 810,
   "metadata": {},
   "outputs": [
    {
     "data": {
      "image/png": "[encoded data removed]",
      "text/plain": [
       "<Figure size 432x288 with 1 Axes>"
      ]
     },
     "metadata": {
      "needs_background": "light"
     },
     "output_type": "display_data"
    },
    {
     "name": "stdout",
     "output_type": "stream",
     "text": [
      "The number of companies within the size range 1 - 10 is: 81\n",
      "The number of companies within the size range 11 - 50 is: 121\n",
      "The number of companies within the size range 51 - 200 is: 156\n",
      "The number of companies within the size range 201 - 500 is: 78\n",
      "The number of companies within the size range 501 - 1000 is: 40\n",
      "The number of companies within the size range 1001 - 5000 is: 87\n",
      "The number of companies within the size range 5001 - 10000 is: 21\n",
      "The number of companies within the size range 10001+ is: 58\n"
     ]
    }
   ],
   "source": [
    "# Size Range column\n",
    "size_range = hiring_dataset[\"Size Range\"]\n",
    "\n",
    "# Creates a dictionary mapping each unique size to the number of times it is seen in the dataset\n",
    "range_dict = {}\n",
    "for size in size_range:\n",
    "    if size not in range_dict:\n",
    "        range_dict[size] = 1\n",
    "    else:\n",
    "        range_dict[size] += 1\n",
    "        \n",
    "# Decompresses the dictionary into an array\n",
    "size_range_arr = []\n",
    "ranges = ['1 - 10', '11 - 50', '51 - 200', '201 - 500', '501 - 1000',\n",
    "          '1001 - 5000', '5001 - 10000', '10001+']\n",
    "for r in ranges:\n",
    "    r_count = [r] * range_dict[r]\n",
    "    size_range_arr.extend(r_count)\n",
    "\n",
    "# Plots a histogram displaying the count for size ranges of companies\n",
    "bins = np.linspace(0, 8, 9)\n",
    "plt.hist(size_range, bins=bins, align=\"left\", rwidth=0.8)\n",
    "plt.title(\"Size range of companies\")\n",
    "plt.xlabel(\"Size ranges\")\n",
    "plt.ylabel(\"Count\")\n",
    "plt.xticks(rotation=\"vertical\")\n",
    "plt.show()\n",
    "\n",
    "# Prints the number of companies in each respective size range\n",
    "for r in ranges:\n",
    "    print(\"The number of companies within the size range {} is: {}\"\n",
    "         .format(r, range_dict[r]))"
   ]
  },
  {
   "cell_type": "markdown",
   "metadata": {},
   "source": [
    "**Analysis:** Based off the above histogram and calculations, the size ranges of \"11 - 50\" (121 companies) and \"51 - 200\" (156 companies) seem to be the most commonly seen ranges. In fact, the size ranges that constitute a smaller-medium sized company make up the majority of the dataset."
   ]
  },
  {
   "cell_type": "markdown",
   "metadata": {},
   "source": [
    "##### 7. Current Employee Estimate\n",
    "\n",
    "The code below extracts all the data from the *Current Employee Estimate* column to look for insights. I'll be plotting and counting the different employee estimates found in my dataset to see if there are any relationships to be made. In other words, is there a specific employee estimate of a company that may indicate whether a company is more likely to be hiring during this time?"
   ]
  },
  {
   "cell_type": "code",
   "execution_count": 811,
   "metadata": {},
   "outputs": [
    {
     "data": {
      "image/png": "[encoded data removed]",
      "text/plain": [
       "<Figure size 432x288 with 1 Axes>"
      ]
     },
     "metadata": {
      "needs_background": "light"
     },
     "output_type": "display_data"
    },
    {
     "name": "stdout",
     "output_type": "stream",
     "text": [
      "The mean employee estimate is: 3486\n",
      "The standard deviation of current employee estimates is: 14905\n",
      "The median of current employee estimates is: 66\n"
     ]
    }
   ],
   "source": [
    "# Current Employee Estimate column\n",
    "employee_estimate = hiring_dataset[\"Current Employee Estimate\"]\n",
    "\n",
    "# x represents each company as a number instead of its respective name\n",
    "x = range(0, len(employee_estimate))\n",
    "# Scatter plot displaying the current employee estimate of each company\n",
    "plt.scatter(x, employee_estimate)\n",
    "plt.title(\"Current Employee Estimate of companies\")\n",
    "plt.xlabel(\"Companies (Represented as integers)\")\n",
    "plt.ylabel(\"Employee estimate\")\n",
    "plt.show()\n",
    "\n",
    "# Finds and prints mean founding year of all companies\n",
    "employee_mean = int(employee_estimate.mean())\n",
    "print(\"The mean employee estimate is: {}\"\n",
    "     .format(employee_mean))\n",
    "# Finds and prints the standard deviation of current employee estimates of all companies\n",
    "employee_std = int(employee_estimate.std())\n",
    "print(\"The standard deviation of current employee estimates is: {}\"\n",
    "     .format(employee_std))\n",
    "# Finds and prints the median of current employee estimates of all companies\n",
    "employee_median = int(employee_estimate.median())\n",
    "print(\"The median of current employee estimates is: {}\"\n",
    "     .format(employee_median))"
   ]
  },
  {
   "cell_type": "markdown",
   "metadata": {},
   "source": [
    "**Analysis:** Based off the above scatter plot, we see that most of the data points are bunched together at the bottom. This means that the majority of companies in the dataset seem to have relatively lesser employees. Similar to the analysis of company size ranges, smaller-medium sized companies contain smaller-medium number of employees, which represents the nature of companies currently hiring. When calculating the mean of current employee estimates, we see that the number is relatively high. This is due to the large companies in the dataset that contain a great amount of employees, causing the mean to be pulled up. Moreover, a standard deviation of approximately 14905 indicates that there is a fair amount of variability within this column of data. In short, the standard deviation we calculated is high, which indicates that the data is more spread out. To obtain a more accurate interpretation of the data, I resorted to calculating the median (66), which normalizes the data in that the more extreme data points do not have as munch power to influence our results."
   ]
  },
  {
   "cell_type": "markdown",
   "metadata": {},
   "source": [
    "#### Summary of analyzing dataset columns\n",
    "\n",
    "After describing different parts of my data, below is a summary of some of the insights I found:\n",
    "- ***Location***\n",
    "    - California & NY are the top locations for hiring, with about 49% and 20% of companies hiring from California and New York respectively. This may be due in part to the major cities located in each state.\n",
    "- ***Job Function***\n",
    "    - The roles for Software Engineers, Marketing, and Product Managers are in high demand, while roles for Finance, Accounting, and Consulting are not so high in demand. An explanation for this could be that more tech-related roles, i.e. Software Engineering, are able to carry out their responsibilities remotely. However, due to COVID-19, responsibilities for roles such as Finance and Consulting (which require client interaction & traveling for Consulting) are not as feasible due to limited in-person interaction.\n",
    "- ***Hiring Interns***\n",
    "    - Most companies in my dataset are not actively hiring for interns during this time. Only a little over 10% (75/642) of companies still have available internship opportunities (as of 4/23/2020). This number doesn't seem too unusual as regardless of COVID-19, most internship positions are typically filled around this time. Additionally, companies may also not have the necessary resources during this time to hire more interns.\n",
    "- ***Year Founded***\n",
    "    - The majority of companies hiring during this time are relatively newer companies, i.e. they were recently established (after 2000). To support this claim, the median founding year of all companies was found to be 2008. Additionally, 453/642 companies were founded between 2000 - 2025, which accounts for approximately 70% of the dataset. An explanation for this could be that these companies are not fully established yet, i.e. they need to fill in positions or hire more employees to further help the company grow.\n",
    "- ***Size Range***\n",
    "    -  The company size ranges of \"11 - 50\" and \"51 - 200\" seem to be the most commonly seen ranges, with 121/642 (19%) and 156/642 (24%) companies in the size ranges respectively. In fact, the size ranges that constitute a smaller-medium sized company (< 500 employees) make up the majority of the dataset. \n",
    "- ***Current Employee Estimate***\n",
    "    - The majority of companies in the dataset seem to have relatively lesser employees. Similar to the analysis of company size ranges, smaller-medium sized companies contain smaller-medium number of employees, which represents the nature of companies currently hiring."
   ]
  },
  {
   "cell_type": "markdown",
   "metadata": {},
   "source": [
    "**c) Now that we've described different parts of the data and summarized the findings, I will now attempt to show patterns or relationships between variables to my address my research question.** "
   ]
  },
  {
   "cell_type": "markdown",
   "metadata": {},
   "source": [
    "1. The first relationship that I'd like to further explore is between *Location* and *Job Function*. In my analysis of the data above, I found that there were certain locations (states) and certain job functions that were more prevalent in my dataset. Hence, I would like to see if a relationship could be established between the two variables, i.e. does a specific location contain more opportunities for a specific role? This helps address my research question by potentially narrowing down the criteria for companies actively hiring during COVID-19.\n",
    "\n",
    "**Approach**: I will accomplish this by using the top ten most common locations found in my dataset earlier. Using these ten locations, I will find which job function is the most popular in each respective area. This will narrow down my search and ultimately allow me to make a conclusion of any insights I find."
   ]
  },
  {
   "cell_type": "code",
   "execution_count": 813,
   "metadata": {
    "scrolled": false
   },
   "outputs": [
    {
     "data": {
      "image/png": "[encoded data removed]",
      "text/plain": [
       "<Figure size 432x288 with 1 Axes>"
      ]
     },
     "metadata": {
      "needs_background": "light"
     },
     "output_type": "display_data"
    },
    {
     "name": "stdout",
     "output_type": "stream",
     "text": [
      "The most common job function companies are hiring for in California is: Software Engineer\n",
      "\n",
      "\n",
      "The most common job function companies are hiring for in New York is: Software Engineer\n",
      "\n",
      "\n",
      "The most common job function companies are hiring for in Washington is: Software Engineer\n",
      "\n",
      "\n",
      "The most common job function companies are hiring for in Remote is: Software Engineer\n",
      "\n",
      "\n",
      "The most common job function companies are hiring for in Texas is: Software Engineer\n",
      "\n",
      "\n",
      "The most common job function companies are hiring for in Massachusetts is: Software Engineer\n",
      "\n",
      "\n",
      "The most common job function companies are hiring for in Illinois is: Software Engineer\n",
      "\n",
      "\n",
      "The most common job function companies are hiring for in US is: Finance/Accounting\n",
      "\n",
      "\n",
      "The most common job function companies are hiring for in Georgia is: Operation\n",
      "\n",
      "\n",
      "The most common job function companies are hiring for in North Carolina is: Marketing\n",
      "\n",
      "\n"
     ]
    }
   ],
   "source": [
    "# For each location, find the most common job function\n",
    "location_to_job = {}\n",
    "\n",
    "for loc in ten_locations:\n",
    "    # Subsets the main DataFrame to create a new one containing only data from the current location being looked at\n",
    "    curr_location = hiring_dataset[ hiring_dataset[\"Location\"].isin([loc])]\n",
    "    jobs = curr_location[\"Job Function\"]\n",
    "    \n",
    "    # Dictionary that temporarily maps unique job functions to the total number of times it is seen in \n",
    "    # that respective location\n",
    "    tmp_dict = job_to_count(jobs)\n",
    "    # Sorts job_dict in descending order based off the values\n",
    "    tmp_dict = sorted(tmp_dict.items(), key = lambda x : x[1], reverse=True)\n",
    "    # Retrievest most prevalent job function in the current location being looked at\n",
    "    top_job = tmp_dict[0][0]\n",
    "    location_to_job[loc] = top_job\n",
    "\n",
    "# Plots a histogram of the most common job function in the top 10 most commonly seen locations\n",
    "bins = np.linspace(0, 4, 5)\n",
    "plt.hist(location_to_job.values(), bins=bins, align=\"left\", rwidth=0.8)\n",
    "plt.title(\"Most common job function in the top 10 most commonly seen locations\")\n",
    "plt.xlabel(\"Job Function\")\n",
    "plt.ylabel(\"Count\")\n",
    "plt.xticks(rotation=\"vertical\")\n",
    "plt.show()\n",
    "\n",
    "# Prints each top location along with the most common job function in that location\n",
    "for key, value in location_to_job.items():\n",
    "    print(\"The most common job function companies are hiring for in {} is: {}\"\n",
    "         .format(key, value))\n",
    "    print(\"\\n\")\n",
    "    "
   ]
  },
  {
   "cell_type": "markdown",
   "metadata": {},
   "source": [
    "**Analysis:** From the above histogram, it is clear that the job function of \"Software Engineer\" is the most desired role based on the top ten most commonly seen locations in my dataset, as it accounts for 70% (7/10) of the data in the plot. Additionally, approximately 93% (597/642) of my dataset involves at least one of the top ten locations. Hence, I believe it is safe to assume that when paired with or without location, the role of \"Software Engineer\" is currently the most desired position during COVID-19."
   ]
  },
  {
   "cell_type": "markdown",
   "metadata": {},
   "source": [
    "2. The second relationship that I'd like to further explore is between *Location* and *Hiring Interns*. The motivation behind this is to analyze whether there is a specific location(s) where companies are more likely to have internship opportunities. This helps address my research question by potentially discovering the most popular locations for internship opportunities during COVID-19."
   ]
  },
  {
   "cell_type": "markdown",
   "metadata": {},
   "source": [
    "**Approach:** To accomplish this, I will piece together information in both columns to arrive at a conclusion. Specifically, I'll be iterating through the entire DataFrame and checking if the current location being looked at is hiring interns, i.e if the value is \"Yes\". "
   ]
  },
  {
   "cell_type": "code",
   "execution_count": 814,
   "metadata": {},
   "outputs": [
    {
     "data": {
      "image/png": "[encoded data removed]",
      "text/plain": [
       "<Figure size 432x288 with 1 Axes>"
      ]
     },
     "metadata": {
      "needs_background": "light"
     },
     "output_type": "display_data"
    }
   ],
   "source": [
    "location_to_interns = {}\n",
    "# Loops through every row in main DataFrame to check if location(s) is hiring interns\n",
    "for ind in hiring_dataset.index:\n",
    "    curr_row = hiring_dataset.loc[ind]\n",
    "    tmp_locations = curr_row[\"Location\"].split(',')\n",
    "    if curr_row[\"Hiring Interns\"] == \"Yes\":\n",
    "        for loc in tmp_locations:\n",
    "            loc = loc.strip()\n",
    "            if loc not in location_to_interns:\n",
    "                location_to_interns[loc] = 1\n",
    "            else:\n",
    "                location_to_interns[loc] += 1\n",
    "    \n",
    "# Sorts location_to_interns in descending order based off the values\n",
    "location_to_interns = sorted(location_to_interns.items(), key = lambda x : x[1], reverse=True)\n",
    "\n",
    "top_ten = np.array(location_to_interns[:10])[::-1]\n",
    "ten_locations = top_ten[:, 0]\n",
    "location_counts = top_ten[:, 1]\n",
    "\n",
    "# Scatter plot that displays the counts of internship opportunities in each respective location\n",
    "plt.scatter(ten_locations, location_counts)\n",
    "plt.title(\"Top locations for internship opportunities\")\n",
    "plt.xlabel(\"Locations\")\n",
    "plt.ylabel(\"Count\")\n",
    "plt.xticks(rotation=\"vertical\")\n",
    "plt.show()"
   ]
  },
  {
   "cell_type": "markdown",
   "metadata": {},
   "source": [
    "**Analysis:** From the above scatter plot, we see that there are indeed locations where internship opportunities are more prevalent. The main locations for internship hires seem to be Washington (9), New York (21), and California (40). This information is useful as those still looking for internship opportunities should consider focusing their efforts towards these locations if possible."
   ]
  },
  {
   "cell_type": "markdown",
   "metadata": {},
   "source": [
    "### IV. *Evaluation of significance*"
   ]
  },
  {
   "cell_type": "markdown",
   "metadata": {},
   "source": [
    "To compare the patterns previously observed, I will combine the techniques of simulation and randomization to validate my findings. From a high level, I'll be running trials and for each trial, randomly choosing a row in my dataset to look for the patterns previously observed. Through this simulation and randomization, I will accumulate a counter that will calculate the percentage of observations that match my desired patterns."
   ]
  },
  {
   "cell_type": "code",
   "execution_count": 817,
   "metadata": {},
   "outputs": [
    {
     "name": "stdout",
     "output_type": "stream",
     "text": [
      "After running 1000 random trials, approximately 43.9% of companies are recruiting for Software Engineers\n",
      "After running 1000 random trials, approximately 11.6% of companies are actively hiring for interns\n"
     ]
    }
   ],
   "source": [
    "job_counter = 0\n",
    "location_internship_counter = 0\n",
    "desired_locations = [\"Washington\", \"New York\", \"California\"]\n",
    "\n",
    "for trial in range(1000):\n",
    "    rand_int = np.random.randint(0, 642)\n",
    "    random_row = hiring_dataset.iloc[rand_int]\n",
    "    if \"Software Engineer\" in random_row[\"Job Function\"]:\n",
    "        job_counter += 1\n",
    "    for loc in desired_locations:\n",
    "        if loc in random_row[\"Location\"] and random_row[\"Hiring Interns\"] == \"Yes\":\n",
    "            location_internship_counter += 1\n",
    "\n",
    "job_counter = round((job_counter / 1000) * 100, 2)\n",
    "location_internship_counter = round((location_internship_counter / 1000) * 100, 2)\n",
    "\n",
    "print(\"After running 1000 random trials, approximately {}% of companies are recruiting for Software Engineers\"\n",
    "     .format(job_counter))\n",
    "print(\"After running 1000 random trials, approximately {}% of companies are actively hiring for interns\"\n",
    "     .format(location_internship_counter))"
   ]
  },
  {
   "cell_type": "markdown",
   "metadata": {},
   "source": [
    "**The results after running my simulation and randomization code are consistent with the findings I found previously. In my data analysis, I found that approximately 44% of companies are hiring for Software Engineers and a little over 10% of companies are actively hiring for interns.**"
   ]
  },
  {
   "cell_type": "markdown",
   "metadata": {},
   "source": [
    "### V. *Conclusion*"
   ]
  },
  {
   "cell_type": "markdown",
   "metadata": {},
   "source": [
    "Over the course of my data analysis, I found several key insights regarding my dataset. The key points that I found and validated were that according to my dataset, the most desired role during COVID-19 is Software Engineers, with about 44% of companies hiring for this position. Moreover, when analyzing only the top ten most commonly seen locations in my dataset, Software Engineers are the most sought role in 70% (7/10) of those locations. Additionally, when analyzing internship availability, a little over 10% of companies are actively hiring for interns; Washington, New York, and California are the top three locations for number of internship opportunities in ascending order. I am fairly confident in these insights as I arrived at them through both analyzing the dataset initially as well as combining the techniques of simulation and randomization. Interpreting these results in the wider real-life application context, I believe the findings are fairly accurate. Because COVID-19 has caused many companies and employees to adopt a WFH (work from home) policy, it is reasonable that Software Engineers are still highly desired, as the role itself is flexible in terms of where responsibilities can be carried out. As for internship availability, I am not too surprised that the percentage of companies (~11%) still actively hiring for interns is relatively low. This is because summer is right around the corner, which means that most internship positions are already filled, or companies do not have the necessary resources during this sensitive time to hire interns. Ultimately, the insights I found through analyzing my data are meant further assist those still in their job search, and I hope that the insights I discovered are able to spread more awareness regarding the characteristics of companies still actively hiring."
   ]
  },
  {
   "cell_type": "markdown",
   "metadata": {},
   "source": [
    "### VI. *Source code*\n",
    "\n",
    " - Github repository: https://github.com/jmo0428/Hiring-Insights\n",
    " - **Note**: *data-retrieval.ipynb* contains all the code for data filtering and aggregation to create my final dataset\n"
   ]
  },
  {
   "cell_type": "markdown",
   "metadata": {},
   "source": [
    "### VII. *Acknowledgements*"
   ]
  },
  {
   "cell_type": "markdown",
   "metadata": {},
   "source": [
    "*Data Sources used to aggregate data:*\n",
    "\n",
    "- https://www.teamblind.com/whoshiring\n",
    "- https://github.com/gcreddy42/hiring2020\n",
    "- https://www.kaggle.com/peopledatalabssf/free-7-million-company-dataset\n",
    "\n",
    "*Other resources that I found helpful:*\n",
    "\n",
    "- https://arxiv.org/pdf/1803.09010.pdf : Inspiration taken to format the \"data description\" section\n",
    "- Inspiration taken from Professor Mimno's notes from 03/03 using the avocados example. I used the notes to help piece together information for finding relationships between variables.\n"
   ]
  }
 ],
 "metadata": {
  "kernelspec": {
   "display_name": "Python 3",
   "language": "python",
   "name": "python3"
  },
  "language_info": {
   "codemirror_mode": {
    "name": "ipython",
    "version": 3
   },
   "file_extension": ".py",
   "mimetype": "text/x-python",
   "name": "python",
   "nbconvert_exporter": "python",
   "pygments_lexer": "ipython3",
   "version": "3.7.6"
  }
 },
 "nbformat": 4,
 "nbformat_minor": 2
}
