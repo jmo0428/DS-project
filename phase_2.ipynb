{
 "cells": [
  {
   "cell_type": "markdown",
   "metadata": {},
   "source": [
    "### Dataset\n",
    "- Link: https://github.com/jmo0428/DS-project/blob/master/final_dataset.csv"
   ]
  },
  {
   "cell_type": "markdown",
   "metadata": {},
   "source": [
    "#### *Potential problems with dataset*\n",
    "\n",
    "- May not be enough data or too small of a subset of companies to find any significant relationships (many companies were taken out when filtering and preprocessing my final dataset)\n",
    "- The \"Hiring Interns\" column may not be entirely accurate. This is because I couldn't find a matching dataset with companies that listed their internship hiring status for the companies in my dataset. As a result, many of the \"No\" values in that column are not verified for accuracy.\n",
    "- The data for the columns \"Year Founded\", \"Size Range\", and \"Current Employee Estimate\" is based off data aggregated in 2019. This may lead to potentially inaccurate insights as this data may not reflect the numbers of the company up-to-date"
   ]
  },
  {
   "cell_type": "markdown",
   "metadata": {},
   "source": [
    "#### *Data description*\n",
    "\n",
    "a) What are the observations (rows) and the attributes (columns)?\n",
    "- **Observations (rows)** represent different companies \n",
    "- **Attributes (columns)** describe aspects of the company, such as:\n",
    "    - Location\n",
    "    - Job functions they're hiring for\n",
    "    - Date of the job submission\n",
    "    - Whether they're hiring interns\n",
    "    - Founding date (year)\n",
    "    - Company size range\n",
    "    - Current Employee Estimate within company\n",
    "    \n",
    "b) Why was this dataset created?\n",
    "- The motivation behind creating this dataset is to look more deeply into a subset of companies that are still currently hiring during this unusual time as a result of COVID-19. Specifically, I would like to see if there are any insights or relationships that could be made with regards to the characteristics of companies actively hiring. In other words, is there something specific that those in their job search currently should be looking for, or on the other hand should stay away from?\n",
    "\n",
    "c) Who funded the creation of the dataset?\n",
    "- The funding of this dataset is attributed to three different sources due to the aggregation of three separate datasets. These three sources include:\n",
    "\n",
    "    1. Blind, an anonymous community application for the workplace, whose mission is to break down professional barriers and hierarchy. The dataset I downloaded from Blind also aims to support those seeking new opportunities due to COVID-19. The link to their dataset can be found here: https://www.teamblind.com/whoshiring\n",
    "\n",
    "    2. A github repository, \"hiring2020\" made by the user \"gcreddy42\", which lists the status of companies' internships. Similar to Blind, recruiters and company representatives are encouraged to pass on information regarding roles in their companies to the owner of this repository, which can be found here: https://github.com/gcreddy42/hiring2020\n",
    "    \n",
    "    3. A kaggle dataset containing information about 7+ million companies, which is owned and maintained by \"People Data Labs\", which can be found here: https://www.kaggle.com/peopledatalabssf/free-7-million-company-dataset\n",
    "    \n",
    "To summarize, the creation of my dataset comes from aggregating these three sources together. Moreover, I would also like to acknowledge those that have taken the effort to add their valuable insights and information regarding hiring activity within their companies.\n",
    "\n",
    "d) What processes might have influenced what data was observed and recorded and what was not?\n",
    "- Being that a fair amount of the data collected was taken from an anonymous open community, there is a possibility that the data is not entirely accurate. Looking at Blind specifically, the submissions of company opportunities are not actually verified for accuracy, instead, only inappropriate content is moderated. As a result, this process may lead to inaccurate information being spread, but at the same time hopefully mitigate harmful content.\n",
    "\n",
    "e) What preprocessing was done, and how did the data come to be in the form that you are using?\n",
    "- To preprocess my data, I separated it into *five different steps*:\n",
    "    - **First Step**: First began with the TeamBlind dataset (loaded in \n",
    "        as csv file) and got rid of columns that I did not plan to use, i.e. \"Where to Apply\", \"Find on Blind\", \"Notes\". Next, I sorted the DataFrame alphabetically using \"Company Name\", and then removed rows that contained duplicates of company names\n",
    "        \n",
    "    - **Second Step**: Next, I navigated to the URL: https://github.com/gcreddy42/hiring2020, copied the data under the two tables \"Actively Hiring List\" & \"COVID-19 Summer 2020 Internship Status List\", and pasted that data into a csv file. For the table under \"Actively Hiring List\", I removed the columns *Country* and *Position*, removed all rows without the *Job Type* of \"Internship\", and removed all rows with duplicate company names (solely focused on looking at available internship opportunities). I then proceeded to create a new column *Internships* in the newly created csv file and populated the column with respect to availability, i.e. if the company is still hiring interns, then set the cell to *True*, otherwise *False*. Using this csv file, I aggregated this dataset with the TeamBlind dataset to create a new column \"Hiring Interns\". If a company was found in both csv files, and if the company is still hiring interns, i.e. if True then fill in \"Yes\" for that company. If a company is in both csv files, but is not hiring interns anymore, i.e. if False, or if a company isn't found in both datasets, then fill in \"No\" for that company.\n",
    "    \n",
    "    - **Third Step**: For the third step, I looked at another dataset, which was a downloaded csv file from Kaggle that contains data about more than 7 million different companies. Through matching companies found in both the downloaded kaggle csv file and the TeamBlind dataset, I added the new columns: \"Year founded\", \"Size range\", and \"Current Employee Estimate\" to the TeamBlind dataset. Similar to the \"Hiring Interns\" column, if a company is in both csv files, then fill in the respective value for that company. If there is no match, then set the value to \"Unknown\" as information for that company under the column is unavailable. As a result, because there were many \"Unknown\" values in the dataset, I decided to remove all rows that contained \"Unknown\" to help make the data look cleaner.\n",
    "    \n",
    "    - **Step Four**: Export the TeamBlind DataFrame to a csv file named \"final_dataset.csv\". Set the index equal to False so it is exported without the index.\n",
    "    \n",
    "    - **Step Five**: Because there were several founding dates missing for some companies, i.e. \"Unknown\", I decided to manually input the founding year for those companies through looking up each one. I manipulated this data directly in the csv file. Moreover, the format of values in the \"Location\" column seemed to differ a lot, so I wanted to make them all follow the same format. Specifically, only include the state name in which the company is located. For companies that have multiple locations, include all states, and for companies that are remote just denote the value as \"Remote\". This data was also manipulated directly in the csv file. Furthermore, if a company had multiple locations and some were out of state, I filtered them out.\n",
    "    \n",
    "    \n",
    "\n",
    "\n",
    "f) If people are involved, were they aware of the data collection and if so, what purpose did they expect the data to be used for?\n",
    "- N/A, other people were not aware of the data collection.\n",
    "\n",
    "g) Where can your raw source data be found, if application? Provide a link to the raw data (hosted in a Cornell Google Drive or Cornell Box)\n",
    "    - TeamBlind data: https://cornell.box.com/s/a9liknlnbbf0ai2xwwl2kkb6komyc2ke\n",
    "    - github data: https://cornell.box.com/s/24992hou4fhij4wtpsqlztxzl86jo082\n",
    "    - kaggle data: https://cornell.box.com/s/zbz4ofewxo296yxgoj4cy4s4emmfzyko"
   ]
  },
  {
   "cell_type": "markdown",
   "metadata": {},
   "source": [
    "#### *Acknowledgments*\n",
    "\n",
    "Data Sources used to aggregate data:\n",
    "- https://www.teamblind.com/whoshiring\n",
    "- https://github.com/gcreddy42/hiring2020\n",
    "- https://www.kaggle.com/peopledatalabssf/free-7-million-company-dataset"
   ]
  }
 ],
 "metadata": {
  "kernelspec": {
   "display_name": "Python 3",
   "language": "python",
   "name": "python3"
  },
  "language_info": {
   "codemirror_mode": {
    "name": "ipython",
    "version": 3
   },
   "file_extension": ".py",
   "mimetype": "text/x-python",
   "name": "python",
   "nbconvert_exporter": "python",
   "pygments_lexer": "ipython3",
   "version": "3.7.6"
  }
 },
 "nbformat": 4,
 "nbformat_minor": 2
}
